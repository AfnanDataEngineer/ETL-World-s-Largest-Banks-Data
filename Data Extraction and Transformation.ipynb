{
 "cells": [
  {
   "cell_type": "code",
   "execution_count": 3,
   "id": "6e81f81f-8171-463c-b375-ee0c1607c295",
   "metadata": {},
   "outputs": [],
   "source": [
    "from bs4 import BeautifulSoup\n",
    "import requests"
   ]
  },
  {
   "cell_type": "code",
   "execution_count": 6,
   "id": "b7cd0a47-6c3a-4961-b943-c4b4944fe7c9",
   "metadata": {},
   "outputs": [],
   "source": [
    "url = 'https://web.archive.org/web/20230908091635/https:/en.wikipedia.org/wiki/List_of_largest_banks'"
   ]
  },
  {
   "cell_type": "code",
   "execution_count": 7,
   "id": "ef9e4cfc-01a0-4306-b6f1-562e938b4bda",
   "metadata": {},
   "outputs": [],
   "source": [
    "page = requests.get(url)"
   ]
  },
  {
   "cell_type": "code",
   "execution_count": 8,
   "id": "7082f576-6cda-41fe-bf34-135ec3ff8215",
   "metadata": {},
   "outputs": [],
   "source": [
    "soup = BeautifulSoup(page.text, 'html')"
   ]
  },
  {
   "cell_type": "code",
   "execution_count": 9,
   "id": "6772d2b1-ffee-4322-8888-14a32853731f",
   "metadata": {},
   "outputs": [],
   "source": [
    "table = soup.find_all('table')[0]"
   ]
  },
  {
   "cell_type": "code",
   "execution_count": 10,
   "id": "fcff7996-c76a-4e75-97f0-b35c07bec388",
   "metadata": {},
   "outputs": [],
   "source": [
    "bank_cap = table.find_all('th')"
   ]
  },
  {
   "cell_type": "code",
   "execution_count": 11,
   "id": "113fe9fd-6e5a-4dab-8cce-bd1383e0b3fa",
   "metadata": {},
   "outputs": [
    {
     "name": "stdout",
     "output_type": "stream",
     "text": [
      "['Rank', 'Bank name', 'Market cap(US$ billion)']\n"
     ]
    }
   ],
   "source": [
    "market_cap = [title.text.strip() for title in bank_cap]\n",
    "\n",
    "print(market_cap)"
   ]
  },
  {
   "cell_type": "code",
   "execution_count": 13,
   "id": "bd563697-8fc7-479e-8ee7-b860b0742f99",
   "metadata": {},
   "outputs": [],
   "source": [
    "import pandas as pd"
   ]
  },
  {
   "cell_type": "code",
   "execution_count": 14,
   "id": "98787ec7-d481-4b0c-854b-9528aef5476a",
   "metadata": {},
   "outputs": [
    {
     "data": {
      "text/html": [
       "<div>\n",
       "<style scoped>\n",
       "    .dataframe tbody tr th:only-of-type {\n",
       "        vertical-align: middle;\n",
       "    }\n",
       "\n",
       "    .dataframe tbody tr th {\n",
       "        vertical-align: top;\n",
       "    }\n",
       "\n",
       "    .dataframe thead th {\n",
       "        text-align: right;\n",
       "    }\n",
       "</style>\n",
       "<table border=\"1\" class=\"dataframe\">\n",
       "  <thead>\n",
       "    <tr style=\"text-align: right;\">\n",
       "      <th></th>\n",
       "      <th>Rank</th>\n",
       "      <th>Bank name</th>\n",
       "      <th>Market cap(US$ billion)</th>\n",
       "    </tr>\n",
       "  </thead>\n",
       "  <tbody>\n",
       "  </tbody>\n",
       "</table>\n",
       "</div>"
      ],
      "text/plain": [
       "Empty DataFrame\n",
       "Columns: [Rank, Bank name, Market cap(US$ billion)]\n",
       "Index: []"
      ]
     },
     "execution_count": 14,
     "metadata": {},
     "output_type": "execute_result"
    }
   ],
   "source": [
    "df = pd.DataFrame(columns = market_cap)\n",
    "df"
   ]
  },
  {
   "cell_type": "code",
   "execution_count": 15,
   "id": "46b81411-64bd-40fc-b3fd-837e6adfcb74",
   "metadata": {},
   "outputs": [],
   "source": [
    "column_data = table.find_all('tr')"
   ]
  },
  {
   "cell_type": "code",
   "execution_count": 16,
   "id": "8fbfc4d5-e2b7-4be4-b9ca-a15e413c7b0e",
   "metadata": {},
   "outputs": [],
   "source": [
    "for row in column_data[1:]:\n",
    "    row_data = row.find_all('td')\n",
    "    individual_row_data = [data.text.strip() for data in row_data]\n",
    "    length = len(df)\n",
    "    df.loc[length] = individual_row_data   \n"
   ]
  },
  {
   "cell_type": "code",
   "execution_count": 17,
   "id": "433df2e8-9cd1-42b7-ac1e-b0c2a61bfc88",
   "metadata": {},
   "outputs": [
    {
     "data": {
      "text/html": [
       "<div>\n",
       "<style scoped>\n",
       "    .dataframe tbody tr th:only-of-type {\n",
       "        vertical-align: middle;\n",
       "    }\n",
       "\n",
       "    .dataframe tbody tr th {\n",
       "        vertical-align: top;\n",
       "    }\n",
       "\n",
       "    .dataframe thead th {\n",
       "        text-align: right;\n",
       "    }\n",
       "</style>\n",
       "<table border=\"1\" class=\"dataframe\">\n",
       "  <thead>\n",
       "    <tr style=\"text-align: right;\">\n",
       "      <th></th>\n",
       "      <th>Rank</th>\n",
       "      <th>Bank name</th>\n",
       "      <th>Market cap(US$ billion)</th>\n",
       "    </tr>\n",
       "  </thead>\n",
       "  <tbody>\n",
       "    <tr>\n",
       "      <th>0</th>\n",
       "      <td>1</td>\n",
       "      <td>JPMorgan Chase</td>\n",
       "      <td>432.92</td>\n",
       "    </tr>\n",
       "    <tr>\n",
       "      <th>1</th>\n",
       "      <td>2</td>\n",
       "      <td>Bank of America</td>\n",
       "      <td>231.52</td>\n",
       "    </tr>\n",
       "    <tr>\n",
       "      <th>2</th>\n",
       "      <td>3</td>\n",
       "      <td>Industrial and Commercial Bank of China</td>\n",
       "      <td>194.56</td>\n",
       "    </tr>\n",
       "    <tr>\n",
       "      <th>3</th>\n",
       "      <td>4</td>\n",
       "      <td>Agricultural Bank of China</td>\n",
       "      <td>160.68</td>\n",
       "    </tr>\n",
       "    <tr>\n",
       "      <th>4</th>\n",
       "      <td>5</td>\n",
       "      <td>HDFC Bank</td>\n",
       "      <td>157.91</td>\n",
       "    </tr>\n",
       "    <tr>\n",
       "      <th>5</th>\n",
       "      <td>6</td>\n",
       "      <td>Wells Fargo</td>\n",
       "      <td>155.87</td>\n",
       "    </tr>\n",
       "    <tr>\n",
       "      <th>6</th>\n",
       "      <td>7</td>\n",
       "      <td>HSBC Holdings PLC</td>\n",
       "      <td>148.90</td>\n",
       "    </tr>\n",
       "    <tr>\n",
       "      <th>7</th>\n",
       "      <td>8</td>\n",
       "      <td>Morgan Stanley</td>\n",
       "      <td>140.83</td>\n",
       "    </tr>\n",
       "    <tr>\n",
       "      <th>8</th>\n",
       "      <td>9</td>\n",
       "      <td>China Construction Bank</td>\n",
       "      <td>139.82</td>\n",
       "    </tr>\n",
       "    <tr>\n",
       "      <th>9</th>\n",
       "      <td>10</td>\n",
       "      <td>Bank of China</td>\n",
       "      <td>136.81</td>\n",
       "    </tr>\n",
       "  </tbody>\n",
       "</table>\n",
       "</div>"
      ],
      "text/plain": [
       "  Rank                                Bank name Market cap(US$ billion)\n",
       "0    1                           JPMorgan Chase                  432.92\n",
       "1    2                          Bank of America                  231.52\n",
       "2    3  Industrial and Commercial Bank of China                  194.56\n",
       "3    4               Agricultural Bank of China                  160.68\n",
       "4    5                                HDFC Bank                  157.91\n",
       "5    6                              Wells Fargo                  155.87\n",
       "6    7                        HSBC Holdings PLC                  148.90\n",
       "7    8                           Morgan Stanley                  140.83\n",
       "8    9                  China Construction Bank                  139.82\n",
       "9   10                            Bank of China                  136.81"
      ]
     },
     "execution_count": 17,
     "metadata": {},
     "output_type": "execute_result"
    }
   ],
   "source": [
    "df"
   ]
  },
  {
   "cell_type": "code",
   "execution_count": 19,
   "id": "10a38396-701e-422e-aaed-bf79c721ba7b",
   "metadata": {},
   "outputs": [],
   "source": [
    "import numpy as np\n",
    "import sqlite3\n",
    "import matplotlib.pyplot as plt"
   ]
  },
  {
   "cell_type": "code",
   "execution_count": 20,
   "id": "9de7f67a-053a-45e8-a576-10440bf2f2a8",
   "metadata": {},
   "outputs": [
    {
     "data": {
      "text/html": [
       "<div>\n",
       "<style scoped>\n",
       "    .dataframe tbody tr th:only-of-type {\n",
       "        vertical-align: middle;\n",
       "    }\n",
       "\n",
       "    .dataframe tbody tr th {\n",
       "        vertical-align: top;\n",
       "    }\n",
       "\n",
       "    .dataframe thead th {\n",
       "        text-align: right;\n",
       "    }\n",
       "</style>\n",
       "<table border=\"1\" class=\"dataframe\">\n",
       "  <thead>\n",
       "    <tr style=\"text-align: right;\">\n",
       "      <th></th>\n",
       "      <th>Rank</th>\n",
       "      <th>Bank name</th>\n",
       "      <th>Market cap(US$ billion)</th>\n",
       "    </tr>\n",
       "  </thead>\n",
       "  <tbody>\n",
       "    <tr>\n",
       "      <th>0</th>\n",
       "      <td>1</td>\n",
       "      <td>JPMorgan Chase</td>\n",
       "      <td>432.92</td>\n",
       "    </tr>\n",
       "    <tr>\n",
       "      <th>1</th>\n",
       "      <td>2</td>\n",
       "      <td>Bank of America</td>\n",
       "      <td>231.52</td>\n",
       "    </tr>\n",
       "    <tr>\n",
       "      <th>2</th>\n",
       "      <td>3</td>\n",
       "      <td>Industrial and Commercial Bank of China</td>\n",
       "      <td>194.56</td>\n",
       "    </tr>\n",
       "    <tr>\n",
       "      <th>3</th>\n",
       "      <td>4</td>\n",
       "      <td>Agricultural Bank of China</td>\n",
       "      <td>160.68</td>\n",
       "    </tr>\n",
       "    <tr>\n",
       "      <th>4</th>\n",
       "      <td>5</td>\n",
       "      <td>HDFC Bank</td>\n",
       "      <td>157.91</td>\n",
       "    </tr>\n",
       "    <tr>\n",
       "      <th>5</th>\n",
       "      <td>6</td>\n",
       "      <td>Wells Fargo</td>\n",
       "      <td>155.87</td>\n",
       "    </tr>\n",
       "    <tr>\n",
       "      <th>6</th>\n",
       "      <td>7</td>\n",
       "      <td>HSBC Holdings PLC</td>\n",
       "      <td>148.90</td>\n",
       "    </tr>\n",
       "    <tr>\n",
       "      <th>7</th>\n",
       "      <td>8</td>\n",
       "      <td>Morgan Stanley</td>\n",
       "      <td>140.83</td>\n",
       "    </tr>\n",
       "    <tr>\n",
       "      <th>8</th>\n",
       "      <td>9</td>\n",
       "      <td>China Construction Bank</td>\n",
       "      <td>139.82</td>\n",
       "    </tr>\n",
       "    <tr>\n",
       "      <th>9</th>\n",
       "      <td>10</td>\n",
       "      <td>Bank of China</td>\n",
       "      <td>136.81</td>\n",
       "    </tr>\n",
       "  </tbody>\n",
       "</table>\n",
       "</div>"
      ],
      "text/plain": [
       "  Rank                                Bank name Market cap(US$ billion)\n",
       "0    1                           JPMorgan Chase                  432.92\n",
       "1    2                          Bank of America                  231.52\n",
       "2    3  Industrial and Commercial Bank of China                  194.56\n",
       "3    4               Agricultural Bank of China                  160.68\n",
       "4    5                                HDFC Bank                  157.91\n",
       "5    6                              Wells Fargo                  155.87\n",
       "6    7                        HSBC Holdings PLC                  148.90\n",
       "7    8                           Morgan Stanley                  140.83\n",
       "8    9                  China Construction Bank                  139.82\n",
       "9   10                            Bank of China                  136.81"
      ]
     },
     "execution_count": 20,
     "metadata": {},
     "output_type": "execute_result"
    }
   ],
   "source": [
    "df.fillna(0, inplace=True)\n",
    "df\n"
   ]
  },
  {
   "cell_type": "code",
   "execution_count": 21,
   "id": "7b931c89-0fd0-41c0-962e-8499fa0ccc03",
   "metadata": {},
   "outputs": [
    {
     "data": {
      "text/html": [
       "<div>\n",
       "<style scoped>\n",
       "    .dataframe tbody tr th:only-of-type {\n",
       "        vertical-align: middle;\n",
       "    }\n",
       "\n",
       "    .dataframe tbody tr th {\n",
       "        vertical-align: top;\n",
       "    }\n",
       "\n",
       "    .dataframe thead th {\n",
       "        text-align: right;\n",
       "    }\n",
       "</style>\n",
       "<table border=\"1\" class=\"dataframe\">\n",
       "  <thead>\n",
       "    <tr style=\"text-align: right;\">\n",
       "      <th></th>\n",
       "      <th>Bank name</th>\n",
       "      <th>Market cap(US$ billion)</th>\n",
       "    </tr>\n",
       "    <tr>\n",
       "      <th>Rank</th>\n",
       "      <th></th>\n",
       "      <th></th>\n",
       "    </tr>\n",
       "  </thead>\n",
       "  <tbody>\n",
       "    <tr>\n",
       "      <th>1</th>\n",
       "      <td>JPMorgan Chase</td>\n",
       "      <td>432.92</td>\n",
       "    </tr>\n",
       "    <tr>\n",
       "      <th>2</th>\n",
       "      <td>Bank of America</td>\n",
       "      <td>231.52</td>\n",
       "    </tr>\n",
       "    <tr>\n",
       "      <th>3</th>\n",
       "      <td>Industrial and Commercial Bank of China</td>\n",
       "      <td>194.56</td>\n",
       "    </tr>\n",
       "    <tr>\n",
       "      <th>4</th>\n",
       "      <td>Agricultural Bank of China</td>\n",
       "      <td>160.68</td>\n",
       "    </tr>\n",
       "    <tr>\n",
       "      <th>5</th>\n",
       "      <td>HDFC Bank</td>\n",
       "      <td>157.91</td>\n",
       "    </tr>\n",
       "    <tr>\n",
       "      <th>6</th>\n",
       "      <td>Wells Fargo</td>\n",
       "      <td>155.87</td>\n",
       "    </tr>\n",
       "    <tr>\n",
       "      <th>7</th>\n",
       "      <td>HSBC Holdings PLC</td>\n",
       "      <td>148.90</td>\n",
       "    </tr>\n",
       "    <tr>\n",
       "      <th>8</th>\n",
       "      <td>Morgan Stanley</td>\n",
       "      <td>140.83</td>\n",
       "    </tr>\n",
       "    <tr>\n",
       "      <th>9</th>\n",
       "      <td>China Construction Bank</td>\n",
       "      <td>139.82</td>\n",
       "    </tr>\n",
       "    <tr>\n",
       "      <th>10</th>\n",
       "      <td>Bank of China</td>\n",
       "      <td>136.81</td>\n",
       "    </tr>\n",
       "  </tbody>\n",
       "</table>\n",
       "</div>"
      ],
      "text/plain": [
       "                                    Bank name Market cap(US$ billion)\n",
       "Rank                                                                 \n",
       "1                              JPMorgan Chase                  432.92\n",
       "2                             Bank of America                  231.52\n",
       "3     Industrial and Commercial Bank of China                  194.56\n",
       "4                  Agricultural Bank of China                  160.68\n",
       "5                                   HDFC Bank                  157.91\n",
       "6                                 Wells Fargo                  155.87\n",
       "7                           HSBC Holdings PLC                  148.90\n",
       "8                              Morgan Stanley                  140.83\n",
       "9                     China Construction Bank                  139.82\n",
       "10                              Bank of China                  136.81"
      ]
     },
     "execution_count": 21,
     "metadata": {},
     "output_type": "execute_result"
    }
   ],
   "source": [
    "df = df.set_index('Rank')\n",
    "df"
   ]
  },
  {
   "cell_type": "code",
   "execution_count": 22,
   "id": "56a9a849-c9df-4482-b8a3-338c7b8547e2",
   "metadata": {},
   "outputs": [],
   "source": [
    "import numpy as np"
   ]
  },
  {
   "cell_type": "code",
   "execution_count": 23,
   "id": "042c0df7-ef57-4780-abda-bd2ebeced9d7",
   "metadata": {},
   "outputs": [],
   "source": [
    "df.fillna(0, inplace=True)"
   ]
  },
  {
   "cell_type": "code",
   "execution_count": 37,
   "id": "97596f17-c620-4dd4-97a5-1be28ccaaafc",
   "metadata": {},
   "outputs": [
    {
     "data": {
      "text/html": [
       "<div>\n",
       "<style scoped>\n",
       "    .dataframe tbody tr th:only-of-type {\n",
       "        vertical-align: middle;\n",
       "    }\n",
       "\n",
       "    .dataframe tbody tr th {\n",
       "        vertical-align: top;\n",
       "    }\n",
       "\n",
       "    .dataframe thead th {\n",
       "        text-align: right;\n",
       "    }\n",
       "</style>\n",
       "<table border=\"1\" class=\"dataframe\">\n",
       "  <thead>\n",
       "    <tr style=\"text-align: right;\">\n",
       "      <th></th>\n",
       "      <th>Currency</th>\n",
       "      <th>Rate</th>\n",
       "      <th>Unnamed: 2</th>\n",
       "    </tr>\n",
       "  </thead>\n",
       "  <tbody>\n",
       "    <tr>\n",
       "      <th>0</th>\n",
       "      <td>EUR</td>\n",
       "      <td>0.93</td>\n",
       "      <td>NaN</td>\n",
       "    </tr>\n",
       "    <tr>\n",
       "      <th>1</th>\n",
       "      <td>GBP</td>\n",
       "      <td>0.80</td>\n",
       "      <td>NaN</td>\n",
       "    </tr>\n",
       "    <tr>\n",
       "      <th>2</th>\n",
       "      <td>INR</td>\n",
       "      <td>82.95</td>\n",
       "      <td>NaN</td>\n",
       "    </tr>\n",
       "  </tbody>\n",
       "</table>\n",
       "</div>"
      ],
      "text/plain": [
       "  Currency   Rate  Unnamed: 2\n",
       "0      EUR   0.93         NaN\n",
       "1      GBP   0.80         NaN\n",
       "2      INR  82.95         NaN"
      ]
     },
     "execution_count": 37,
     "metadata": {},
     "output_type": "execute_result"
    }
   ],
   "source": [
    "exchange_rates = pd.read_csv(r\"D:\\Data Engineering\\Project 1\\exchange_rate.csv\")\n",
    "exchange_rates"
   ]
  },
  {
   "cell_type": "code",
   "execution_count": 38,
   "id": "eeee0b67-b710-4ee8-b60e-6b5d36ad770a",
   "metadata": {},
   "outputs": [
    {
     "data": {
      "text/html": [
       "<div>\n",
       "<style scoped>\n",
       "    .dataframe tbody tr th:only-of-type {\n",
       "        vertical-align: middle;\n",
       "    }\n",
       "\n",
       "    .dataframe tbody tr th {\n",
       "        vertical-align: top;\n",
       "    }\n",
       "\n",
       "    .dataframe thead th {\n",
       "        text-align: right;\n",
       "    }\n",
       "</style>\n",
       "<table border=\"1\" class=\"dataframe\">\n",
       "  <thead>\n",
       "    <tr style=\"text-align: right;\">\n",
       "      <th></th>\n",
       "      <th>Currency</th>\n",
       "      <th>Rate</th>\n",
       "    </tr>\n",
       "  </thead>\n",
       "  <tbody>\n",
       "    <tr>\n",
       "      <th>0</th>\n",
       "      <td>EUR</td>\n",
       "      <td>0.93</td>\n",
       "    </tr>\n",
       "    <tr>\n",
       "      <th>1</th>\n",
       "      <td>GBP</td>\n",
       "      <td>0.80</td>\n",
       "    </tr>\n",
       "    <tr>\n",
       "      <th>2</th>\n",
       "      <td>INR</td>\n",
       "      <td>82.95</td>\n",
       "    </tr>\n",
       "  </tbody>\n",
       "</table>\n",
       "</div>"
      ],
      "text/plain": [
       "  Currency   Rate\n",
       "0      EUR   0.93\n",
       "1      GBP   0.80\n",
       "2      INR  82.95"
      ]
     },
     "execution_count": 38,
     "metadata": {},
     "output_type": "execute_result"
    }
   ],
   "source": [
    "exchange_rates.drop(columns = ['Unnamed: 2'], inplace = True)\n",
    "exchange_rates"
   ]
  },
  {
   "cell_type": "code",
   "execution_count": 39,
   "id": "e874cf33-e285-4d4a-9a93-a8c60119fcfc",
   "metadata": {},
   "outputs": [],
   "source": [
    "df[\"Market cap(US$ billion)\"] = pd.to_numeric(df[\"Market cap(US$ billion)\"], errors='coerce')"
   ]
  },
  {
   "cell_type": "code",
   "execution_count": 41,
   "id": "dbc089b3-40f9-4ce5-8966-2a95df1c22c7",
   "metadata": {},
   "outputs": [],
   "source": [
    "df[\"Market cap(EUR billion)\"] = df[\"Market cap(US$ billion)\"] * exchange_rates[\"Rate\"][0]"
   ]
  },
  {
   "cell_type": "code",
   "execution_count": 42,
   "id": "fce920cf-c72c-4114-a4a6-4ff1aa0aa8e9",
   "metadata": {},
   "outputs": [],
   "source": [
    "df[\"Market cap(GBP billion)\"] = df[\"Market cap(US$ billion)\"] * exchange_rates[\"Rate\"][1]"
   ]
  },
  {
   "cell_type": "code",
   "execution_count": 43,
   "id": "d6c49941-02f0-4439-8448-8ac650eedd4b",
   "metadata": {},
   "outputs": [],
   "source": [
    "df[\"Market cap(INR billion)\"] = df[\"Market cap(US$ billion)\"] * exchange_rates[\"Rate\"][2]"
   ]
  },
  {
   "cell_type": "code",
   "execution_count": 44,
   "id": "72a6fb3b-9ee8-4c98-af8d-ecb5ef53fda3",
   "metadata": {},
   "outputs": [
    {
     "data": {
      "text/html": [
       "<div>\n",
       "<style scoped>\n",
       "    .dataframe tbody tr th:only-of-type {\n",
       "        vertical-align: middle;\n",
       "    }\n",
       "\n",
       "    .dataframe tbody tr th {\n",
       "        vertical-align: top;\n",
       "    }\n",
       "\n",
       "    .dataframe thead th {\n",
       "        text-align: right;\n",
       "    }\n",
       "</style>\n",
       "<table border=\"1\" class=\"dataframe\">\n",
       "  <thead>\n",
       "    <tr style=\"text-align: right;\">\n",
       "      <th></th>\n",
       "      <th>Bank name</th>\n",
       "      <th>Market cap(US$ billion)</th>\n",
       "      <th>Market cap(EUR billion)</th>\n",
       "      <th>Market cap(GBP billion)</th>\n",
       "      <th>Market cap(INR billion)</th>\n",
       "    </tr>\n",
       "    <tr>\n",
       "      <th>Rank</th>\n",
       "      <th></th>\n",
       "      <th></th>\n",
       "      <th></th>\n",
       "      <th></th>\n",
       "      <th></th>\n",
       "    </tr>\n",
       "  </thead>\n",
       "  <tbody>\n",
       "    <tr>\n",
       "      <th>1</th>\n",
       "      <td>JPMorgan Chase</td>\n",
       "      <td>432.92</td>\n",
       "      <td>402.6156</td>\n",
       "      <td>346.336</td>\n",
       "      <td>35910.7140</td>\n",
       "    </tr>\n",
       "    <tr>\n",
       "      <th>2</th>\n",
       "      <td>Bank of America</td>\n",
       "      <td>231.52</td>\n",
       "      <td>215.3136</td>\n",
       "      <td>185.216</td>\n",
       "      <td>19204.5840</td>\n",
       "    </tr>\n",
       "    <tr>\n",
       "      <th>3</th>\n",
       "      <td>Industrial and Commercial Bank of China</td>\n",
       "      <td>194.56</td>\n",
       "      <td>180.9408</td>\n",
       "      <td>155.648</td>\n",
       "      <td>16138.7520</td>\n",
       "    </tr>\n",
       "    <tr>\n",
       "      <th>4</th>\n",
       "      <td>Agricultural Bank of China</td>\n",
       "      <td>160.68</td>\n",
       "      <td>149.4324</td>\n",
       "      <td>128.544</td>\n",
       "      <td>13328.4060</td>\n",
       "    </tr>\n",
       "    <tr>\n",
       "      <th>5</th>\n",
       "      <td>HDFC Bank</td>\n",
       "      <td>157.91</td>\n",
       "      <td>146.8563</td>\n",
       "      <td>126.328</td>\n",
       "      <td>13098.6345</td>\n",
       "    </tr>\n",
       "    <tr>\n",
       "      <th>6</th>\n",
       "      <td>Wells Fargo</td>\n",
       "      <td>155.87</td>\n",
       "      <td>144.9591</td>\n",
       "      <td>124.696</td>\n",
       "      <td>12929.4165</td>\n",
       "    </tr>\n",
       "    <tr>\n",
       "      <th>7</th>\n",
       "      <td>HSBC Holdings PLC</td>\n",
       "      <td>148.90</td>\n",
       "      <td>138.4770</td>\n",
       "      <td>119.120</td>\n",
       "      <td>12351.2550</td>\n",
       "    </tr>\n",
       "    <tr>\n",
       "      <th>8</th>\n",
       "      <td>Morgan Stanley</td>\n",
       "      <td>140.83</td>\n",
       "      <td>130.9719</td>\n",
       "      <td>112.664</td>\n",
       "      <td>11681.8485</td>\n",
       "    </tr>\n",
       "    <tr>\n",
       "      <th>9</th>\n",
       "      <td>China Construction Bank</td>\n",
       "      <td>139.82</td>\n",
       "      <td>130.0326</td>\n",
       "      <td>111.856</td>\n",
       "      <td>11598.0690</td>\n",
       "    </tr>\n",
       "    <tr>\n",
       "      <th>10</th>\n",
       "      <td>Bank of China</td>\n",
       "      <td>136.81</td>\n",
       "      <td>127.2333</td>\n",
       "      <td>109.448</td>\n",
       "      <td>11348.3895</td>\n",
       "    </tr>\n",
       "  </tbody>\n",
       "</table>\n",
       "</div>"
      ],
      "text/plain": [
       "                                    Bank name  Market cap(US$ billion)  \\\n",
       "Rank                                                                     \n",
       "1                              JPMorgan Chase                   432.92   \n",
       "2                             Bank of America                   231.52   \n",
       "3     Industrial and Commercial Bank of China                   194.56   \n",
       "4                  Agricultural Bank of China                   160.68   \n",
       "5                                   HDFC Bank                   157.91   \n",
       "6                                 Wells Fargo                   155.87   \n",
       "7                           HSBC Holdings PLC                   148.90   \n",
       "8                              Morgan Stanley                   140.83   \n",
       "9                     China Construction Bank                   139.82   \n",
       "10                              Bank of China                   136.81   \n",
       "\n",
       "      Market cap(EUR billion)  Market cap(GBP billion)  \\\n",
       "Rank                                                     \n",
       "1                    402.6156                  346.336   \n",
       "2                    215.3136                  185.216   \n",
       "3                    180.9408                  155.648   \n",
       "4                    149.4324                  128.544   \n",
       "5                    146.8563                  126.328   \n",
       "6                    144.9591                  124.696   \n",
       "7                    138.4770                  119.120   \n",
       "8                    130.9719                  112.664   \n",
       "9                    130.0326                  111.856   \n",
       "10                   127.2333                  109.448   \n",
       "\n",
       "      Market cap(INR billion)  \n",
       "Rank                           \n",
       "1                  35910.7140  \n",
       "2                  19204.5840  \n",
       "3                  16138.7520  \n",
       "4                  13328.4060  \n",
       "5                  13098.6345  \n",
       "6                  12929.4165  \n",
       "7                  12351.2550  \n",
       "8                  11681.8485  \n",
       "9                  11598.0690  \n",
       "10                 11348.3895  "
      ]
     },
     "execution_count": 44,
     "metadata": {},
     "output_type": "execute_result"
    }
   ],
   "source": [
    "df"
   ]
  },
  {
   "cell_type": "code",
   "execution_count": 46,
   "id": "5b151726-a2ee-41c7-acca-d8f386bd16bd",
   "metadata": {},
   "outputs": [],
   "source": [
    "df.to_csv(r'D:\\Data Engineering\\Project 1\\ETL P1.csv')"
   ]
  },
  {
   "cell_type": "code",
   "execution_count": null,
   "id": "77561c25-f775-421b-93f8-e2e66b97359d",
   "metadata": {},
   "outputs": [],
   "source": []
  }
 ],
 "metadata": {
  "kernelspec": {
   "display_name": "Python 3 (ipykernel)",
   "language": "python",
   "name": "python3"
  },
  "language_info": {
   "codemirror_mode": {
    "name": "ipython",
    "version": 3
   },
   "file_extension": ".py",
   "mimetype": "text/x-python",
   "name": "python",
   "nbconvert_exporter": "python",
   "pygments_lexer": "ipython3",
   "version": "3.11.7"
  }
 },
 "nbformat": 4,
 "nbformat_minor": 5
}
